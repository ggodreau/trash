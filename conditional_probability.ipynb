{
 "cells": [
  {
   "cell_type": "code",
   "execution_count": 12,
   "metadata": {},
   "outputs": [
    {
     "data": {
      "text/html": [
       "<div>\n",
       "<style scoped>\n",
       "    .dataframe tbody tr th:only-of-type {\n",
       "        vertical-align: middle;\n",
       "    }\n",
       "\n",
       "    .dataframe tbody tr th {\n",
       "        vertical-align: top;\n",
       "    }\n",
       "\n",
       "    .dataframe thead th {\n",
       "        text-align: right;\n",
       "    }\n",
       "</style>\n",
       "<table border=\"1\" class=\"dataframe\">\n",
       "  <thead>\n",
       "    <tr style=\"text-align: right;\">\n",
       "      <th></th>\n",
       "      <th>sandwich</th>\n",
       "      <th>side</th>\n",
       "    </tr>\n",
       "  </thead>\n",
       "  <tbody>\n",
       "    <tr>\n",
       "      <th>1</th>\n",
       "      <td>c</td>\n",
       "      <td>f</td>\n",
       "    </tr>\n",
       "    <tr>\n",
       "      <th>2</th>\n",
       "      <td>c</td>\n",
       "      <td>f</td>\n",
       "    </tr>\n",
       "    <tr>\n",
       "      <th>3</th>\n",
       "      <td>c</td>\n",
       "      <td>f</td>\n",
       "    </tr>\n",
       "    <tr>\n",
       "      <th>4</th>\n",
       "      <td>c</td>\n",
       "      <td>f</td>\n",
       "    </tr>\n",
       "    <tr>\n",
       "      <th>5</th>\n",
       "      <td>c</td>\n",
       "      <td>f</td>\n",
       "    </tr>\n",
       "    <tr>\n",
       "      <th>6</th>\n",
       "      <td>c</td>\n",
       "      <td>s</td>\n",
       "    </tr>\n",
       "    <tr>\n",
       "      <th>7</th>\n",
       "      <td>c</td>\n",
       "      <td>s</td>\n",
       "    </tr>\n",
       "    <tr>\n",
       "      <th>8</th>\n",
       "      <td>v</td>\n",
       "      <td>f</td>\n",
       "    </tr>\n",
       "    <tr>\n",
       "      <th>9</th>\n",
       "      <td>v</td>\n",
       "      <td>s</td>\n",
       "    </tr>\n",
       "    <tr>\n",
       "      <th>10</th>\n",
       "      <td>v</td>\n",
       "      <td>s</td>\n",
       "    </tr>\n",
       "  </tbody>\n",
       "</table>\n",
       "</div>"
      ],
      "text/plain": [
       "   sandwich side\n",
       "1         c    f\n",
       "2         c    f\n",
       "3         c    f\n",
       "4         c    f\n",
       "5         c    f\n",
       "6         c    s\n",
       "7         c    s\n",
       "8         v    f\n",
       "9         v    s\n",
       "10        v    s"
      ]
     },
     "execution_count": 12,
     "metadata": {},
     "output_type": "execute_result"
    }
   ],
   "source": [
    "import pandas as pd\n",
    "df =pd.DataFrame({\n",
    "    'sandwich': ['c', 'c', 'c', 'c', 'c', 'c', 'c', 'v', 'v', 'v'],\n",
    "    'side': ['f', 'f', 'f', 'f', 'f', 's', 's', 'f', 's', 's']\n",
    "}, index=pd.RangeIndex(1, 11))\n",
    "df"
   ]
  },
  {
   "cell_type": "code",
   "execution_count": 1,
   "metadata": {},
   "outputs": [
    {
     "data": {
      "text/html": [
       "<div>\n",
       "<style scoped>\n",
       "    .dataframe tbody tr th:only-of-type {\n",
       "        vertical-align: middle;\n",
       "    }\n",
       "\n",
       "    .dataframe tbody tr th {\n",
       "        vertical-align: top;\n",
       "    }\n",
       "\n",
       "    .dataframe thead th {\n",
       "        text-align: right;\n",
       "    }\n",
       "</style>\n",
       "<table border=\"1\" class=\"dataframe\">\n",
       "  <thead>\n",
       "    <tr style=\"text-align: right;\">\n",
       "      <th></th>\n",
       "      <th>sandwich</th>\n",
       "      <th>side</th>\n",
       "    </tr>\n",
       "  </thead>\n",
       "  <tbody>\n",
       "    <tr>\n",
       "      <th>1</th>\n",
       "      <td>🍔</td>\n",
       "      <td>🍟</td>\n",
       "    </tr>\n",
       "    <tr>\n",
       "      <th>2</th>\n",
       "      <td>🍔</td>\n",
       "      <td>🍟</td>\n",
       "    </tr>\n",
       "    <tr>\n",
       "      <th>3</th>\n",
       "      <td>🍔</td>\n",
       "      <td>🍟</td>\n",
       "    </tr>\n",
       "    <tr>\n",
       "      <th>4</th>\n",
       "      <td>🍔</td>\n",
       "      <td>🍟</td>\n",
       "    </tr>\n",
       "    <tr>\n",
       "      <th>5</th>\n",
       "      <td>🍔</td>\n",
       "      <td>🍟</td>\n",
       "    </tr>\n",
       "    <tr>\n",
       "      <th>6</th>\n",
       "      <td>🍔</td>\n",
       "      <td>🍦</td>\n",
       "    </tr>\n",
       "    <tr>\n",
       "      <th>7</th>\n",
       "      <td>🍔</td>\n",
       "      <td>🍦</td>\n",
       "    </tr>\n",
       "    <tr>\n",
       "      <th>8</th>\n",
       "      <td>🍆</td>\n",
       "      <td>🍟</td>\n",
       "    </tr>\n",
       "    <tr>\n",
       "      <th>9</th>\n",
       "      <td>🍆</td>\n",
       "      <td>🍦</td>\n",
       "    </tr>\n",
       "    <tr>\n",
       "      <th>10</th>\n",
       "      <td>🍆</td>\n",
       "      <td>🍦</td>\n",
       "    </tr>\n",
       "  </tbody>\n",
       "</table>\n",
       "</div>"
      ],
      "text/plain": [
       "   sandwich side\n",
       "1         🍔    🍟\n",
       "2         🍔    🍟\n",
       "3         🍔    🍟\n",
       "4         🍔    🍟\n",
       "5         🍔    🍟\n",
       "6         🍔    🍦\n",
       "7         🍔    🍦\n",
       "8         🍆    🍟\n",
       "9         🍆    🍦\n",
       "10        🍆    🍦"
      ]
     },
     "execution_count": 1,
     "metadata": {},
     "output_type": "execute_result"
    }
   ],
   "source": [
    "import pandas as pd\n",
    "df =pd.DataFrame({\n",
    "    'sandwich': list('🍔'*7) + list('🍆'*3),\n",
    "    'side': list('🍟'*5) + list('🍦'*2) + list('🍟') + list('🍦'*2)\n",
    "}, index=pd.RangeIndex(1, 11))\n",
    "df"
   ]
  },
  {
   "cell_type": "code",
   "execution_count": 3,
   "metadata": {},
   "outputs": [
    {
     "data": {
      "text/plain": [
       "'<table border=\"1\" class=\"dataframe\">\\n  <thead>\\n    <tr style=\"text-align: right;\">\\n      <th></th>\\n      <th>sandwich</th>\\n      <th>side</th>\\n    </tr>\\n  </thead>\\n  <tbody>\\n    <tr>\\n      <th>1</th>\\n      <td>🍔</td>\\n      <td>🍟</td>\\n    </tr>\\n    <tr>\\n      <th>2</th>\\n      <td>🍔</td>\\n      <td>🍟</td>\\n    </tr>\\n    <tr>\\n      <th>3</th>\\n      <td>🍔</td>\\n      <td>🍟</td>\\n    </tr>\\n    <tr>\\n      <th>4</th>\\n      <td>🍔</td>\\n      <td>🍟</td>\\n    </tr>\\n    <tr>\\n      <th>5</th>\\n      <td>🍔</td>\\n      <td>🍟</td>\\n    </tr>\\n    <tr>\\n      <th>6</th>\\n      <td>🍔</td>\\n      <td>🍦</td>\\n    </tr>\\n    <tr>\\n      <th>7</th>\\n      <td>🍔</td>\\n      <td>🍦</td>\\n    </tr>\\n    <tr>\\n      <th>8</th>\\n      <td>🍆</td>\\n      <td>🍟</td>\\n    </tr>\\n    <tr>\\n      <th>9</th>\\n      <td>🍆</td>\\n      <td>🍦</td>\\n    </tr>\\n    <tr>\\n      <th>10</th>\\n      <td>🍆</td>\\n      <td>🍦</td>\\n    </tr>\\n  </tbody>\\n</table>'"
      ]
     },
     "execution_count": 3,
     "metadata": {},
     "output_type": "execute_result"
    }
   ],
   "source": [
    "df.to_html()"
   ]
  },
  {
   "cell_type": "code",
   "execution_count": 4,
   "metadata": {},
   "outputs": [],
   "source": [
    "s = '<table border=\"1\" class=\"dataframe\">\\n  <thead>\\n    <tr style=\"text-align: right;\">\\n      <th></th>\\n      <th>sandwich</th>\\n      <th>side</th>\\n    </tr>\\n  </thead>\\n  <tbody>\\n    <tr>\\n      <th>1</th>\\n      <td>🍔</td>\\n      <td>🍟</td>\\n    </tr>\\n    <tr>\\n      <th>2</th>\\n      <td>🍔</td>\\n      <td>🍟</td>\\n    </tr>\\n    <tr>\\n      <th>3</th>\\n      <td>🍔</td>\\n      <td>🍟</td>\\n    </tr>\\n    <tr>\\n      <th>4</th>\\n      <td>🍔</td>\\n      <td>🍟</td>\\n    </tr>\\n    <tr>\\n      <th>5</th>\\n      <td>🍔</td>\\n      <td>🍟</td>\\n    </tr>\\n    <tr>\\n      <th>6</th>\\n      <td>🍔</td>\\n      <td>🍦</td>\\n    </tr>\\n    <tr>\\n      <th>7</th>\\n      <td>🍔</td>\\n      <td>🍦</td>\\n    </tr>\\n    <tr>\\n      <th>8</th>\\n      <td>🍆</td>\\n      <td>🍟</td>\\n    </tr>\\n    <tr>\\n      <th>9</th>\\n      <td>🍆</td>\\n      <td>🍦</td>\\n    </tr>\\n    <tr>\\n      <th>10</th>\\n      <td>🍆</td>\\n      <td>🍦</td>\\n    </tr>\\n  </tbody>\\n</table>'"
   ]
  },
  {
   "cell_type": "code",
   "execution_count": 9,
   "metadata": {},
   "outputs": [
    {
     "data": {
      "text/plain": [
       "'<table border=\"1\" class=\"dataframe\"><thead><tr style=\"text-align: right;\"><th></th><th>sandwich</th><th>side</th></tr></thead><tbody><tr><th>1</th><td>🍔</td><td>🍟</td></tr><tr><th>2</th><td>🍔</td><td>🍟</td></tr><tr><th>3</th><td>🍔</td><td>🍟</td></tr><tr><th>4</th><td>🍔</td><td>🍟</td></tr><tr><th>5</th><td>🍔</td><td>🍟</td></tr><tr><th>6</th><td>🍔</td><td>🍦</td></tr><tr><th>7</th><td>🍔</td><td>🍦</td></tr><tr><th>8</th><td>🍆</td><td>🍟</td></tr><tr><th>9</th><td>🍆</td><td>🍦</td></tr><tr><th>10</th><td>🍆</td><td>🍦</td></tr></tbody></table>'"
      ]
     },
     "execution_count": 9,
     "metadata": {},
     "output_type": "execute_result"
    }
   ],
   "source": [
    "s.replace('\\n', '').replace('\\t', '').replace('    ', '').replace('  ', '')"
   ]
  },
  {
   "cell_type": "code",
   "execution_count": 40,
   "metadata": {},
   "outputs": [
    {
     "data": {
      "text/plain": [
       "0.7"
      ]
     },
     "execution_count": 40,
     "metadata": {},
     "output_type": "execute_result"
    }
   ],
   "source": [
    "p_c = df[ df['sandwich'] == '🍔'].shape[0] / df.shape[0]\n",
    "p_c"
   ]
  },
  {
   "cell_type": "code",
   "execution_count": 50,
   "metadata": {},
   "outputs": [
    {
     "data": {
      "text/plain": [
       "{1, 2, 3, 4, 5, 6, 7}"
      ]
     },
     "execution_count": 50,
     "metadata": {},
     "output_type": "execute_result"
    }
   ],
   "source": [
    "c = set(df[ df['sandwich'] == '🍔' ].index)\n",
    "c"
   ]
  },
  {
   "cell_type": "code",
   "execution_count": 23,
   "metadata": {},
   "outputs": [
    {
     "data": {
      "text/plain": [
       "0.5"
      ]
     },
     "execution_count": 23,
     "metadata": {},
     "output_type": "execute_result"
    }
   ],
   "source": [
    "p_fac = df[ (df['sandwich'] == 'c') & (df['side'] == 'f') ].shape[0] / df.shape[0]\n",
    "p_fac"
   ]
  },
  {
   "cell_type": "code",
   "execution_count": 51,
   "metadata": {},
   "outputs": [
    {
     "data": {
      "text/plain": [
       "{1, 2, 3, 4, 5}"
      ]
     },
     "execution_count": 51,
     "metadata": {},
     "output_type": "execute_result"
    }
   ],
   "source": [
    "cf = set(df[ (df['sandwich'] == '🍔') & (df['side'] == '🍟') ].index)\n",
    "cf"
   ]
  },
  {
   "cell_type": "code",
   "execution_count": 52,
   "metadata": {},
   "outputs": [
    {
     "data": {
      "text/plain": [
       "{1, 2, 3, 4, 5}"
      ]
     },
     "execution_count": 52,
     "metadata": {},
     "output_type": "execute_result"
    }
   ],
   "source": [
    "c.intersection(cf)"
   ]
  },
  {
   "cell_type": "markdown",
   "metadata": {},
   "source": [
    "```\n",
    "P(A given B) = P(A and B) / P(B)\n",
    "\n",
    "P(fries given cheeseburger) = P(fries AND cheeseburger) / P(cheeseburger)\n",
    "```"
   ]
  },
  {
   "cell_type": "code",
   "execution_count": 22,
   "metadata": {},
   "outputs": [
    {
     "data": {
      "text/plain": [
       "0.7142857142857143"
      ]
     },
     "execution_count": 22,
     "metadata": {},
     "output_type": "execute_result"
    }
   ],
   "source": [
    "p_fgc = p_fac / p_c\n",
    "p_fgc"
   ]
  }
 ],
 "metadata": {
  "kernelspec": {
   "display_name": "Python 3",
   "language": "python",
   "name": "python3"
  },
  "language_info": {
   "codemirror_mode": {
    "name": "ipython",
    "version": 3
   },
   "file_extension": ".py",
   "mimetype": "text/x-python",
   "name": "python",
   "nbconvert_exporter": "python",
   "pygments_lexer": "ipython3",
   "version": "3.7.3"
  }
 },
 "nbformat": 4,
 "nbformat_minor": 2
}
